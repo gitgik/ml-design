{
 "cells": [
  {
   "cell_type": "markdown",
   "metadata": {},
   "source": [
    "## Designing an ML System\n",
    "There's a plethora of resources out there that provides information about how different machine learning models work. However, there's not may resources that show you how to approach designing ML systems that try to solve complex large scale problems.\n",
    "\n",
    "This project tries to bridge that gap. \n"
   ]
  },
  {
   "cell_type": "markdown",
   "metadata": {},
   "source": [
    "## 1. Set up the problem\n",
    "Usually, the problem at hand is generally very broad. The first thing you wan't to do is ask questions. Why?\n",
    "- To bridge the gap between your understanding of the questions and the expectations of the interviewer. \n",
    "- Narrow down your problem space\n",
    "- Chalk out system requirements\n",
    "- Arrive at a precise problem statement\n",
    "\n",
    "#### Example 1\n",
    "You want to design a search engine that displays the most relevant results in response to user queries.\n",
    "Questions you may want to ask are:\n",
    "    - Is it a general search engine (Google) or a specialized search engine (Amazon product search)?\n",
    "    - What kind of queries is it expected to answer?\n",
    "    \n",
    "From the findings, you can then define a precise problem statement as follows:\n",
    "> Build an ML model that allows a generic search engine to return relevant results for queries like \"Elon Musk\", \"Prog Languages\" etc."
   ]
  },
  {
   "cell_type": "markdown",
   "metadata": {},
   "source": [
    "## 2.  Understand Scale and Latency Requirements\n",
    "Conversations around performance, and capacity considerations will allow you to clearly understand the scale of the system and its requirments. \n",
    "\n",
    "#### Example – A feed-based system\n",
    "**The problem:** Given a list of tweets, train an ML model that predicts the probability of engagement of tweets and orders them based on that score.\n",
    "\n",
    "- **Latency Requirements:** Do you want to return the relevant tweets in 100 milliseconds or 500 ms? Knowing that you need to return results quickly will inform the depth and complexity of your models.\n",
    "- **Scale of the data:** How many tweets would we have to rank according to relevance for a user at a time? Having huge amounts of data will inform you to design the system with scalability in mind.\n",
    "\n",
    "> Knowing scale and latency requirements will influence how scalable and complex your models will be. \n",
    "\n"
   ]
  },
  {
   "cell_type": "code",
   "execution_count": null,
   "metadata": {},
   "outputs": [],
   "source": []
  }
 ],
 "metadata": {
  "kernelspec": {
   "display_name": "Python 3",
   "language": "python",
   "name": "python3"
  },
  "language_info": {
   "codemirror_mode": {
    "name": "ipython",
    "version": 3
   },
   "file_extension": ".py",
   "mimetype": "text/x-python",
   "name": "python",
   "nbconvert_exporter": "python",
   "pygments_lexer": "ipython3",
   "version": "3.7.6"
  }
 },
 "nbformat": 4,
 "nbformat_minor": 4
}
